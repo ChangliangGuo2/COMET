{
 "cells": [
  {
   "cell_type": "markdown",
   "metadata": {},
   "source": [
    "## Pipeline for microendoscopic data processing in CaImAn using the CNMF-E algorithm\n",
    "This demo presents a complete pipeline for processing microendoscopic data using CaImAn. It includes:\n",
    "- Motion Correction using the NoRMCorre algorithm\n",
    "- Source extraction using the CNMF-E algorithm\n",
    "- Deconvolution using the OASIS algorithm\n",
    "\n",
    "Some basic visualization is also included. The demo illustrates how to `params`, `MoctionCorrection` and `cnmf` object for processing 1p microendoscopic data. For processing two-photon data consult the related `demo_pipeline.ipynb` demo. For more information see the companion CaImAn paper."
   ]
  },
  {
   "cell_type": "code",
   "execution_count": null,
   "metadata": {},
   "outputs": [],
   "source": [
    "try:\n",
    "    get_ipython().run_line_magic('load_ext', 'autoreload')\n",
    "    get_ipython().run_line_magic('autoreload', '2')\n",
    "    get_ipython().run_line_magic('matplotlib', 'qt')\n",
    "except:\n",
    "    pass\n",
    "\n",
    "import logging\n",
    "import matplotlib.pyplot as plt\n",
    "import numpy as np\n",
    "\n",
    "logging.basicConfig(format=\n",
    "                          \"%(relativeCreated)12d [%(filename)s:%(funcName)20s():%(lineno)s] [%(process)d] %(message)s\",\n",
    "                    # filename=\"caiman.log\",\n",
    "                    level=logging.DEBUG)\n",
    "\n",
    "import caiman as cm\n",
    "from caiman.source_extraction import cnmf\n",
    "from caiman.utils.utils import download_demo\n",
    "from caiman.utils.visualization import inspect_correlation_pnr, nb_inspect_correlation_pnr\n",
    "from caiman.motion_correction import MotionCorrect\n",
    "from caiman.source_extraction.cnmf import params as params\n",
    "from caiman.utils.visualization import plot_contours, nb_view_patches, nb_plot_contour\n",
    "from caiman.source_extraction.cnmf.initialization import init_neurons_corr_pnr\n",
    "from caiman.utils.visualization import view_quilt\n",
    "import cv2\n",
    "import pickle\n",
    "import scipy.io as sio\n",
    "\n",
    "try:\n",
    "    cv2.setNumThreads(0)\n",
    "except:\n",
    "    pass\n",
    "import bokeh.plotting as bpl\n",
    "import holoviews as hv\n",
    "bpl.output_notebook()\n",
    "hv.notebook_extension('bokeh')\n",
    "\n",
    "#%% start a cluster for parallel processing (if a cluster already exists it will be closed and a new session will be opened)\n",
    "if 'dview' in locals():\n",
    "    cm.stop_server(dview=dview)\n",
    "c, dview, n_processes = cm.cluster.setup_cluster(\n",
    "    backend='local', n_processes=None, single_thread=False)\n",
    "%autoreload 2"
   ]
  },
  {
   "cell_type": "markdown",
   "metadata": {},
   "source": [
    "### Select file(s) to be processed\n",
    "The `download_demo` function will download the specific file for you and return the complete path to the file which will be stored in your `caiman_data` directory. If you adapt this demo for your data make sure to pass the complete path to your file(s). Remember to pass the `fnames` variable as a list. Note that the memory requirement of the CNMF-E algorithm are much higher compared to the standard CNMF algorithm. Test the limits of your system before trying to process very large amounts of data."
   ]
  },
  {
   "cell_type": "code",
   "execution_count": null,
   "metadata": {},
   "outputs": [],
   "source": [
    "fnames = [r'Y:\\CM2scope\\trace_fear_conditioning\\train\\gzc_rasgrf-ai148d-93\\My_V4_Miniscope\\AMF_despeckle_MC_denoised_8bit.tif'.replace('\\\\','\\\\'),\n",
    "         ]\n",
    "print(fnames)"
   ]
  },
  {
   "cell_type": "code",
   "execution_count": null,
   "metadata": {},
   "outputs": [],
   "source": [
    "for fname in fnames:\n",
    "    name = fname.split(\".\")[0]+'_variables.pkl'\n",
    "    with open(name, 'rb') as file:\n",
    "        vars = pickle.load(file)\n",
    "        cn_filter = vars['cn_filter']\n",
    "        pnr = vars['pnr']\n",
    "        data_max = vars['data_max']\n",
    "        data_noise = vars['data_noise']\n",
    "        std = vars['std']\n",
    "        opts = vars['opts']\n",
    "        \n",
    "    cnm = cnmf.CNMF(n_processes=n_processes, dview=dview, Ain=None, params=opts)\n",
    "    \n",
    "    name = fname.split(\".\")[0]+'_cnm_estimates.pkl'\n",
    "    with open(name, 'rb') as file:\n",
    "        cnm.estimates = pickle.load(file)\n",
    "    \n",
    "    name = fname.split(\".\")[0]+'_correlation_images_sigma2.png'\n",
    "    pnr = cv2.imread(name, cv2.IMREAD_ANYDEPTH).astype(np.float32)\n",
    "    \n",
    "    name = fname.split(\".\")[0]+'pnr_images_sigma2.png'\n",
    "    cn_filter = cv2.imread(name, cv2.IMREAD_ANYDEPTH).astype(np.float32)\n",
    "    \n",
    "    percentile_value = np.percentile(cn_filter[cn_filter > 0], 99.9)\n",
    "    mask = (cn_filter > percentile_value)\n",
    "    cn_filter[mask] = percentile_value\n",
    "    \n",
    "    \n",
    "    name=fname.split(\".\")[0]+'_caiman_result.mat'\n",
    "    mat = sio.loadmat(name)\n",
    "    cnm.estimates.idx_components=np.squeeze(mat['A_neuron_good_idx'].astype(np.int32))\n",
    "    cnm.estimates.idx_components_bad=np.squeeze(mat['A_neuron_bad_idx'].astype(np.int32))\n",
    "    \n",
    "    #%% plot contour plots of accepted and rejected components\n",
    "    cnm.estimates.plot_contours_nb(img=pnr, idx=cnm.estimates.idx_components,thr=0.8,cmap='Greys',thr_method='nrg')\n",
    "    del cnm"
   ]
  },
  {
   "cell_type": "code",
   "execution_count": null,
   "metadata": {},
   "outputs": [],
   "source": []
  }
 ],
 "metadata": {
  "anaconda-cloud": {},
  "kernelspec": {
   "display_name": "Python 3 (ipykernel)",
   "language": "python",
   "name": "python3"
  },
  "language_info": {
   "codemirror_mode": {
    "name": "ipython",
    "version": 3
   },
   "file_extension": ".py",
   "mimetype": "text/x-python",
   "name": "python",
   "nbconvert_exporter": "python",
   "pygments_lexer": "ipython3",
   "version": "3.10.8"
  }
 },
 "nbformat": 4,
 "nbformat_minor": 4
}
