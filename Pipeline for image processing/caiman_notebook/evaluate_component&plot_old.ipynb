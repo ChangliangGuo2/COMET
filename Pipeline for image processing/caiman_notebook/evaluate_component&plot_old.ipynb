{
 "cells": [
  {
   "cell_type": "markdown",
   "metadata": {},
   "source": [
    "## Pipeline for microendoscopic data processing in CaImAn using the CNMF-E algorithm\n",
    "This demo presents a complete pipeline for processing microendoscopic data using CaImAn. It includes:\n",
    "- Motion Correction using the NoRMCorre algorithm\n",
    "- Source extraction using the CNMF-E algorithm\n",
    "- Deconvolution using the OASIS algorithm\n",
    "\n",
    "Some basic visualization is also included. The demo illustrates how to `params`, `MoctionCorrection` and `cnmf` object for processing 1p microendoscopic data. For processing two-photon data consult the related `demo_pipeline.ipynb` demo. For more information see the companion CaImAn paper."
   ]
  },
  {
   "cell_type": "code",
   "execution_count": null,
   "metadata": {},
   "outputs": [],
   "source": [
    "try:\n",
    "    get_ipython().run_line_magic('load_ext', 'autoreload')\n",
    "    get_ipython().run_line_magic('autoreload', '2')\n",
    "    get_ipython().run_line_magic('matplotlib', 'qt')\n",
    "except:\n",
    "    pass\n",
    "\n",
    "import logging\n",
    "import matplotlib.pyplot as plt\n",
    "import matplotlib\n",
    "import numpy as np\n",
    "import scipy.io as sio\n",
    "logging.basicConfig(format=\n",
    "                          \"%(relativeCreated)12d [%(filename)s:%(funcName)20s():%(lineno)s] [%(process)d] %(message)s\",\n",
    "                    # filename=\"caiman.log\",\n",
    "                    level=logging.DEBUG)\n",
    "\n",
    "import caiman as cm\n",
    "from caiman.source_extraction import cnmf\n",
    "from caiman.utils.utils import download_demo\n",
    "from caiman.utils.visualization import inspect_correlation_pnr, nb_inspect_correlation_pnr\n",
    "from caiman.motion_correction import MotionCorrect\n",
    "from caiman.source_extraction.cnmf import params as params\n",
    "from caiman.utils.visualization import plot_contours, nb_view_patches, nb_plot_contour\n",
    "import cv2\n",
    "\n",
    "try:\n",
    "    cv2.setNumThreads(0)\n",
    "except:\n",
    "    pass\n",
    "import bokeh.plotting as bpl\n",
    "import holoviews as hv\n",
    "bpl.output_notebook()\n",
    "hv.notebook_extension('bokeh')"
   ]
  },
  {
   "cell_type": "markdown",
   "metadata": {},
   "source": [
    "### Select file(s) to be processed\n",
    "The `download_demo` function will download the specific file for you and return the complete path to the file which will be stored in your `caiman_data` directory. If you adapt this demo for your data make sure to pass the complete path to your file(s). Remember to pass the `fnames` variable as a list. Note that the memory requirement of the CNMF-E algorithm are much higher compared to the standard CNMF algorithm. Test the limits of your system before trying to process very large amounts of data."
   ]
  },
  {
   "cell_type": "code",
   "execution_count": null,
   "metadata": {},
   "outputs": [],
   "source": [
    "fnames = [r'G:\\RL_CM2\\analysis\\SUPPORT.tif'.replace('\\\\','\\\\')]\n",
    "print(fnames)"
   ]
  },
  {
   "cell_type": "markdown",
   "metadata": {},
   "source": [
    "### Setup a cluster\n",
    "To enable parallel processing a (local) cluster needs to be set up. This is done with a cell below. The variable `backend` determines the type of cluster used. The default value `'local'` uses the multiprocessing package. The `ipyparallel` option is also available. More information on these choices can be found [here](https://github.com/flatironinstitute/CaImAn/blob/master/CLUSTER.md). The resulting variable `dview` expresses the cluster option. If you use `dview=dview` in the downstream analysis then parallel processing will be used. If you use `dview=None` then no parallel processing will be employed."
   ]
  },
  {
   "cell_type": "code",
   "execution_count": null,
   "metadata": {},
   "outputs": [],
   "source": [
    "#%% start a cluster for parallel processing (if a cluster already exists it will be closed and a new session will be opened)\n",
    "if 'dview' in locals():\n",
    "    cm.stop_server(dview=dview)\n",
    "c, dview, n_processes = cm.cluster.setup_cluster(\n",
    "    backend='local', n_processes=None, single_thread=False)"
   ]
  },
  {
   "cell_type": "markdown",
   "metadata": {},
   "source": [
    "### Setup some parameters\n",
    "We first set some parameters related to the data and motion correction and create a `params` object. We'll modify this object with additional settings later on. You can also set all the parameters at once as demonstrated in the `demo_pipeline.ipynb` notebook."
   ]
  },
  {
   "cell_type": "code",
   "execution_count": null,
   "metadata": {
    "scrolled": true
   },
   "outputs": [],
   "source": [
    "# dataset dependent parameters\n",
    "frate = 10                      # movie frame rate\n",
    "decay_time = 0.4                 # length of a typical transient in seconds\n",
    "\n",
    "# motion correction parameters\n",
    "motion_correct = True    # flag for performing motion correction\n",
    "pw_rigid = True         # flag for performing piecewise-rigid motion correction (otherwise just rigid)\n",
    "gSig_filt = (3, 3)       # size of high pass spatial filtering, used in 1p data\n",
    "max_shifts = (20, 20)      # maximum allowed rigid shift\n",
    "strides = (96, 96)       # start a new patch for pw-rigid motion correction every x pixels\n",
    "overlaps = (32, 32)      # overlap between pathes (size of patch strides+overlaps)\n",
    "max_deviation_rigid = 3  # maximum deviation allowed for patch with respect to rigid shifts\n",
    "border_nan = 'copy'      # replicate values along the boundaries\n",
    "\n",
    "num_frames_split = 50  #根据数据量大大小进行更改\n",
    "\n",
    "mc_dict = {\n",
    "    'fnames': fnames,\n",
    "    'fr': frate,\n",
    "    'decay_time': decay_time,\n",
    "    'pw_rigid': pw_rigid,\n",
    "    'max_shifts': max_shifts,\n",
    "    'gSig_filt': gSig_filt,\n",
    "    'strides': strides,\n",
    "    'overlaps': overlaps,\n",
    "    'max_deviation_rigid': max_deviation_rigid,\n",
    "    'border_nan': border_nan,\n",
    "    'num_frames_split':num_frames_split\n",
    "}\n",
    "\n",
    "opts = params.CNMFParams(params_dict=mc_dict)"
   ]
  },
  {
   "cell_type": "markdown",
   "metadata": {},
   "source": [
    "### Motion Correction\n",
    "The background signal in micro-endoscopic data is very strong and makes the motion correction challenging. \n",
    "As a first step the algorithm performs a high pass spatial filtering with a Gaussian kernel to remove the bulk of the background and enhance spatial landmarks. \n",
    "The size of the kernel is given from the parameter `gSig_filt`. If this is left to the default value of `None` then no spatial filtering is performed (default option, used in 2p data).\n",
    "After spatial filtering, the NoRMCorre algorithm is used to determine the motion in each frame. The inferred motion is then applied to the *original* data so no information is lost.\n",
    "\n",
    "The motion corrected files are saved in memory mapped format. If no motion correction is being performed, then the file gets directly memory mapped."
   ]
  },
  {
   "cell_type": "markdown",
   "metadata": {},
   "source": [
    "### Load memory mapped file"
   ]
  },
  {
   "cell_type": "code",
   "execution_count": null,
   "metadata": {},
   "outputs": [],
   "source": [
    "fname_new=r'G:\\RL_CM2\\analysis\\memmap_d1_1944_d2_1944_d3_1_order_C_frames_940.mmap'.replace('\\\\','\\\\');#如果第一次做MC就不需要运行这一行，如果做过MC，\n",
    "                                                                                                   #不想再做一次，就可以直接读取MC后的mmap文件"
   ]
  },
  {
   "cell_type": "code",
   "execution_count": null,
   "metadata": {},
   "outputs": [],
   "source": [
    "# load memory mappable file\n",
    "Yr, dims, T = cm.load_memmap(fname_new)\n",
    "images = Yr.T.reshape((T,) + dims, order='C')\n",
    "print(images.shape)\n",
    "print(Yr.shape)\n",
    "print(dims)\n",
    "print(T)"
   ]
  },
  {
   "cell_type": "markdown",
   "metadata": {},
   "source": [
    "### Parameter setting for CNMF-E\n",
    "We now define some parameters for the source extraction step using the CNMF-E algorithm. \n",
    "We construct a new dictionary and use this to modify the *existing* `params` object,"
   ]
  },
  {
   "cell_type": "code",
   "execution_count": null,
   "metadata": {},
   "outputs": [],
   "source": [
    "# parameters for source extraction and deconvolution\n",
    "p = 1               # order of the autoregressive system\n",
    "K = None            # upper bound on number of components per patch, in general None\n",
    "gSig = (2, 2)       # gaussian width of a 2D gaussian kernel, which approximates a neuron\n",
    "gSiz = (4, 4)     # average diameter of a neuron, in general 4*gSig+1\n",
    "Ain = None          # possibility to seed with predetermined binary masks\n",
    "merge_thr = .7      # merging threshold, max correlation allowed\n",
    "rf = 40             # half-size of the patches in pixels. e.g., if rf=40, patches are 80x80\n",
    "stride_cnmf = 10    # amount of overlap between the patches in pixels\n",
    "#                     (keep it at least large as gSiz, i.e 4 times the neuron size gSig)\n",
    "tsub = 1            # downsampling factor in time for initialization,\n",
    "#                     increase if you have memory problems\n",
    "ssub = 1            # downsampling factor in space for initialization,\n",
    "#                     increase if you have memory problems\n",
    "#                     you can pass them here as boolean vectors\n",
    "low_rank_background = None  # None leaves background of each patch intact,\n",
    "#                     True performs global low-rank approximation if gnb>0\n",
    "gnb = -2             # number of background components (rank) if positive,\n",
    "#                     else exact ring model with following settings\n",
    "#                         gnb= 0: Return background as b and W\n",
    "#                         gnb=-1: Return full rank background B\n",
    "#                         gnb<-1: Don't return background\n",
    "nb_patch = 0        # number of background components (rank) per patch if gnb>0,\n",
    "#                     else it is set automatically\n",
    "min_corr = .65    # min peak value from correlation image\n",
    "min_pnr = 35     # min peak to noise ration from PNR image\n",
    "ssub_B = 2          # additional downsampling factor in space for background\n",
    "ring_size_factor = 1.4  # radius of ring is gSiz*ring_size_factor\n",
    "\n",
    "bord_px=0\n",
    "\n",
    "merge_parallel=True\n",
    "\n",
    "\n",
    "opts.change_params(params_dict={'method_init': 'corr_pnr',  # use this for 1 photon\n",
    "                                'K': K,\n",
    "                                'gSig': gSig,\n",
    "                                'gSiz': gSiz,\n",
    "                                'merge_thr': merge_thr,\n",
    "                                'p': p,\n",
    "                                'tsub': tsub,\n",
    "                                'ssub': ssub,\n",
    "                                'rf': rf,\n",
    "                                'stride': stride_cnmf,\n",
    "                                'only_init': True,    # set it to True to run CNMF-E\n",
    "                                'nb': gnb,\n",
    "                                'nb_patch': nb_patch,\n",
    "                                'method_deconvolution': 'oasis',       # could use 'cvxpy' alternatively\n",
    "                                'low_rank_background': low_rank_background,\n",
    "                                'update_background_components': True,  # sometimes setting to False improve the results\n",
    "                                'min_corr': min_corr,\n",
    "                                'min_pnr': min_pnr,\n",
    "                                'normalize_init': False,               # just leave as is\n",
    "                                'center_psf': True,                    # leave as is for 1 photon\n",
    "                                'ssub_B': ssub_B,\n",
    "                                'ring_size_factor': ring_size_factor,\n",
    "                                'del_duplicates': True, # whether to remove duplicates from initialization\n",
    "                                'merge_parallel':merge_parallel,\n",
    "                                'border_pix': bord_px})                # number of pixels to not consider in the borders)"
   ]
  },
  {
   "cell_type": "markdown",
   "metadata": {},
   "source": [
    "### Inspect summary images and set parameters\n",
    "Check the optimal values of `min_corr` and `min_pnr` by moving slider in the figure that pops up. You can modify them in the `params` object. \n",
    "Note that computing the correlation pnr image can be computationally and memory demanding for large datasets. In this case you can compute\n",
    "only on a subset of the data (the results will not change). You can do that by changing `images[::1]` to `images[::5]` or something similar.\n",
    "This will compute the correlation pnr image"
   ]
  },
  {
   "cell_type": "code",
   "execution_count": null,
   "metadata": {},
   "outputs": [],
   "source": [
    "cn_filter, pnr = cm.summary_images.correlation_pnr_guohua(images[::3], gSig=2, swap_dim=False,center_psf=True) # change swap dim if output looks weird, it is a problem with tiffile\n",
    "# inspect the summary images and set the parameters\n",
    "nb_inspect_correlation_pnr(cn_filter.T, pnr.T)"
   ]
  },
  {
   "cell_type": "code",
   "execution_count": null,
   "metadata": {},
   "outputs": [],
   "source": [
    "cn_filter, pnr = cm.summary_images.correlation_pnr_cuda(images[::1], gSig=2, swap_dim=False,center_psf=True) # change swap dim if output looks weird, it is a problem with tiffile\n",
    "nb_inspect_correlation_pnr(cn_filter.T, pnr.T)"
   ]
  },
  {
   "cell_type": "code",
   "execution_count": null,
   "metadata": {},
   "outputs": [],
   "source": [
    "v_search = cn_filter * pnr\n",
    "v_search[(cn_filter < 0.1) | (pnr < 40)] = 0\n",
    "img2save=v_search\n",
    "min_value = np.nanmin(img2save)\n",
    "img2save[np.isnan(img2save)]=min_value\n",
    "print(\"minvalue:\",min_value)\n",
    "max_value = np.max(img2save)\n",
    "print(\"maxvalue:\",max_value)\n",
    "min_value=0;\n",
    "scaled_img2save = ((img2save - min_value) / (max_value - min_value) * 65535).astype(np.uint16)\n",
    "cv2.imwrite('v_search2.png', scaled_img2save.T)"
   ]
  },
  {
   "cell_type": "code",
   "execution_count": null,
   "metadata": {
    "scrolled": true
   },
   "outputs": [],
   "source": [
    "cn, data_std,data_std2,data_max,data_filtered_mean1,data_filtered_mean2 = cm.summary_images.correlation_pnr_debug(images[::3], gSig=2, swap_dim=False,center_psf=True) "
   ]
  },
  {
   "cell_type": "code",
   "execution_count": null,
   "metadata": {},
   "outputs": [],
   "source": [
    "percentile_value = np.percentile(data_std2[data_std2 > 0], 0.5)\n",
    "mask = (data_std2 > 0) & (data_std2 < percentile_value)\n",
    "data_std2[mask] = percentile_value"
   ]
  },
  {
   "cell_type": "code",
   "execution_count": null,
   "metadata": {},
   "outputs": [],
   "source": [
    "pnr = np.divide(data_max, data_std2)\n",
    "pnr[pnr < 0] = 0\n",
    "pnr2_1 = np.maximum(pnr, np.divide(data_std2,np.max(data_std2))*np.max(pnr))\n",
    "pnr2_2 = pnr+np.divide(data_std2,np.max(data_std2))*np.max(pnr)\n",
    "pnr2_2[pnr2_2 < 0] = 0\n",
    "# pnr3 = np.maximum(pnr2, np.divide(data_std,np.max(data_std))*np.max(pnr2))\n",
    "# pnr3 = np.maximum(pnr2, data_max)\n",
    "# pnr3 = pnr2*data_max"
   ]
  },
  {
   "cell_type": "code",
   "execution_count": null,
   "metadata": {},
   "outputs": [],
   "source": [
    "# import cv2\n",
    "# import numpy as np\n",
    "img2save=cn\n",
    "min_value = np.nanmin(img2save)\n",
    "img2save[np.isnan(img2save)]=min_value\n",
    "print(\"minvalue:\",min_value)\n",
    "max_value = np.max(img2save)\n",
    "print(\"maxvalue:\",max_value)\n",
    "min_value=0;\n",
    "scaled_img2save = ((img2save - min_value) / (max_value - min_value) * 65535).astype(np.uint16)\n",
    "cv2.imwrite('cn.png', scaled_img2save.T)"
   ]
  },
  {
   "cell_type": "code",
   "execution_count": null,
   "metadata": {},
   "outputs": [],
   "source": [
    "data_std2.shape"
   ]
  },
  {
   "cell_type": "markdown",
   "metadata": {},
   "source": [
    "You can inspect the correlation and PNR images to select the threshold values for `min_corr` and `min_pnr`. The algorithm will look for components only in places where these value are above the specified thresholds. You can adjust the dynamic range in the plots shown above by choosing the selection tool (third button from the left) and selecting the desired region in the histogram plots on the right of each panel."
   ]
  },
  {
   "cell_type": "code",
   "execution_count": null,
   "metadata": {},
   "outputs": [],
   "source": [
    "# # print parameters set above, modify them if necessary based on summary images\n",
    "print(min_corr) # min correlation of peak (from correlation image)\n",
    "print(min_pnr)  # min peak to noise ratio"
   ]
  },
  {
   "cell_type": "markdown",
   "metadata": {},
   "source": [
    "### Run the CNMF-E algorithm"
   ]
  },
  {
   "cell_type": "code",
   "execution_count": null,
   "metadata": {
    "scrolled": true
   },
   "outputs": [],
   "source": [
    "cnm = cnmf.CNMF(n_processes=n_processes, dview=dview, Ain=Ain, params=opts)\n",
    "# cnm.fit(images)"
   ]
  },
  {
   "cell_type": "markdown",
   "metadata": {},
   "source": [
    "### Alternate way to run the pipeline at once\n",
    "It is possible to run the combined steps of motion correction, memory mapping, and cnmf fitting in one step as shown below. The command is commented out since the analysis has already been performed. It is recommended that you familiriaze yourself with the various steps and the results of the various steps before using it."
   ]
  },
  {
   "cell_type": "markdown",
   "metadata": {},
   "source": [
    "## Component Evaluation\n",
    "\n",
    "The processing in patches creates several spurious components. These are filtered out by evaluating each component using three different criteria:\n",
    "\n",
    "- the shape of each component must be correlated with the data at the corresponding location within the FOV\n",
    "- a minimum peak SNR is required over the length of a transient\n",
    "- each shape passes a CNN based classifier\n",
    "\n",
    "<img src=\"../../docs/img/evaluationcomponent.png\"/>\n",
    "After setting some parameters we again modify the existing `params` object."
   ]
  },
  {
   "cell_type": "code",
   "execution_count": null,
   "metadata": {},
   "outputs": [],
   "source": [
    "#%% COMPONENT EVALUATION\n",
    "# the components are evaluated in three ways:\n",
    "#   a) the shape of each component must be correlated with the data\n",
    "#   b) a minimum peak SNR is required over the length of a transient\n",
    "#   c) each shape passes a CNN based classifier\n",
    "#Each parameter has a low threshold (rval_lowest (default -1), SNR_lowest (default 0.5), cnn_lowest (default 0.1)) and high threshold (rval_thr (default 0.8), min_SNR (default 2.5), min_cnn_thr (default 0.9)). A component has to exceed ALL low thresholds as well as ONE high threshold to be accepted.\n",
    "#low threshold\n",
    "rval_lowest =0.3\n",
    "SNR_lowest =1\n",
    "#high threshold\n",
    "min_SNR = 3    # adaptive way to set threshold on the transient size\n",
    "r_values_min = 0.7  # threshold on space consistency (if you lower more components\n",
    "#                        will be accepted, potentially with worst quality)\n",
    "cnm.params.set('quality', {'rval_lowest': rval_lowest,'SNR_lowest': SNR_lowest,'min_SNR': min_SNR,\n",
    "                           'rval_thr': r_values_min,\n",
    "                           'use_cnn': False})\n",
    "cnm.estimates.evaluate_components(images, cnm.params, dview=dview)\n",
    "\n",
    "print(' ***** ')\n",
    "print('Number of total components: ', len(cnm.estimates.C))\n",
    "print('Number of accepted components: ', len(cnm.estimates.idx_components))"
   ]
  },
  {
   "cell_type": "markdown",
   "metadata": {},
   "source": [
    "### Do some plotting"
   ]
  },
  {
   "cell_type": "code",
   "execution_count": null,
   "metadata": {},
   "outputs": [],
   "source": [
    "import pickle\n",
    "with open('cnm_estimates2.pkl', 'rb') as file:\n",
    "    cnm.estimates = pickle.load(file)"
   ]
  },
  {
   "cell_type": "code",
   "execution_count": null,
   "metadata": {},
   "outputs": [],
   "source": [
    "import pickle\n",
    "with open('cnm_estimates2.pkl', 'wb') as file:\n",
    "    pickle.dump(cnm.estimates, file)"
   ]
  },
  {
   "cell_type": "code",
   "execution_count": null,
   "metadata": {},
   "outputs": [],
   "source": [
    "cn_pnr = cv2.imread('./pnr2_2_cn.png', cv2.IMREAD_ANYDEPTH).astype(np.float32)\n",
    "percentile_value = np.percentile(cn_pnr[cn_pnr > 0], 99.9)\n",
    "mask = (cn_pnr > 0) & (cn_pnr > percentile_value)\n",
    "cn_pnr[mask] = percentile_value\n",
    "cn_pnr.shape\n",
    "print(percentile_value)"
   ]
  },
  {
   "cell_type": "code",
   "execution_count": null,
   "metadata": {},
   "outputs": [],
   "source": [
    "#%% plot contour plots of accepted and rejected components\n",
    "cnm.estimates.plot_contours_nb(img=(cn_pnr), idx=cnm.estimates.idx_components,thr=0.4)"
   ]
  },
  {
   "cell_type": "code",
   "execution_count": null,
   "metadata": {},
   "outputs": [],
   "source": [
    "cnm.estimates.coordinates=None"
   ]
  },
  {
   "cell_type": "code",
   "execution_count": null,
   "metadata": {},
   "outputs": [],
   "source": [
    "cnm.estimates.coordinates[1]"
   ]
  },
  {
   "cell_type": "code",
   "execution_count": null,
   "metadata": {},
   "outputs": [],
   "source": [
    "good_coordinates=[cnm.estimates.coordinates[i] for i in cnm.estimates.idx_components]\n",
    "ellipticity_threshhold=0.5\n",
    "center = [np.clip(cor['CoM'], 0, 1944) for cor in good_coordinates if ((cor['ellipticity'] > ellipticity_threshhold) & (cor['ellipticity'] < 1.0/ellipticity_threshhold))]\n",
    "center=np.array(center)\n",
    "sio.savemat(fnames[0].split(\".\")[0]+'_center.mat',{\"center\":center})\n",
    "# len(cc1)"
   ]
  },
  {
   "cell_type": "code",
   "execution_count": null,
   "metadata": {},
   "outputs": [],
   "source": [
    "#把画出来good counter的坐标点导出来\n",
    "good_coordinates=[cnm.estimates.coordinates[i] for i in cnm.estimates.idx_components]\n",
    "ellipticity_threshhold=0.5\n",
    "cc1 = [np.clip(cor['coordinates'][1:-1, 0], 0, 1944) for cor in good_coordinates if ((cor['ellipticity'] > ellipticity_threshhold) & (cor['ellipticity'] < 1.0/ellipticity_threshhold))]\n",
    "cc2 = [np.clip(cor['coordinates'][1:-1, 1], 0, 1944) for cor in good_coordinates if ((cor['ellipticity'] > ellipticity_threshhold) & (cor['ellipticity'] < 1.0/ellipticity_threshhold))]\n",
    "len(cc1)"
   ]
  },
  {
   "cell_type": "markdown",
   "metadata": {},
   "source": [
    "## View traces of accepted and rejected components. Note that if you get data rate error you can start Jupyter notebooks using:\n",
    "'jupyter notebook --NotebookApp.iopub_data_rate_limit=1.0e10'"
   ]
  },
  {
   "cell_type": "code",
   "execution_count": null,
   "metadata": {},
   "outputs": [],
   "source": [
    "# accepted components\n",
    "cnm.estimates.hv_view_components(img=cn_pnr, idx=cnm.estimates.idx_components,\n",
    "                                denoised_color='red', cmap='gray',coors=cnm.estimates.coordinates)"
   ]
  },
  {
   "cell_type": "code",
   "execution_count": null,
   "metadata": {},
   "outputs": [],
   "source": [
    "# rejected components\n",
    "cnm.estimates.hv_view_components(img=cn_pnr, idx=cnm.estimates.idx_components_bad,\n",
    "                                denoised_color='red', cmap='gray',coors=cnm.estimates.coordinates)"
   ]
  },
  {
   "cell_type": "markdown",
   "metadata": {},
   "source": [
    "### Save results to matlab mat"
   ]
  },
  {
   "cell_type": "code",
   "execution_count": null,
   "metadata": {},
   "outputs": [],
   "source": [
    "sio.savemat(fnames[0].split(\".\")[0]+'_caiman_result.mat',{\"A_neuron_good_idx\":cnm.estimates.idx_components,\"A_neuron_bad_idx\":cnm.estimates.idx_components_bad,\"C_trace\":cnm.estimates.C,\"A_neuron_sparse\":cnm.estimates.A.astype(np.float64)})"
   ]
  },
  {
   "cell_type": "code",
   "execution_count": null,
   "metadata": {},
   "outputs": [],
   "source": [
    "dir(cnm.estimates)"
   ]
  },
  {
   "cell_type": "markdown",
   "metadata": {},
   "source": [
    "### Plot some figures"
   ]
  },
  {
   "cell_type": "code",
   "execution_count": null,
   "metadata": {},
   "outputs": [],
   "source": [
    "C_trace = cnm.estimates.C\n",
    "print(\"C_trace shape is：\", C_trace.shape)\n",
    "# imgplot = plt.imshow(C_trace[1:2000,:])\n",
    "matplotlib.image.imsave(fnames[0].split(\".\")[0]+'C_trace.png', C_trace[cnm.estimates.idx_components[1:2000],:])"
   ]
  },
  {
   "cell_type": "code",
   "execution_count": null,
   "metadata": {},
   "outputs": [],
   "source": [
    "import matplotlib as mpl\n",
    "import matplotlib.pyplot as plt\n",
    "import matplotlib.gridspec as grid_spec\n",
    "\n",
    "C_trace_good=C_trace[cnm.estimates.idx_components,:]\n",
    "num2plot=150\n",
    "gs = grid_spec.GridSpec(num2plot,1)\n",
    "fig = plt.figure(figsize=(16,20))\n",
    "fig.patch.set_facecolor('white')  # 设置整个图的背景颜色为黑色\n",
    "ax_objs = []\n",
    "for i in range(num2plot):\n",
    "    trace=C_trace_good[i+1000,:]\n",
    "    x_d = np.linspace(0,940, 940)\n",
    "\n",
    "    # creating new axes object\n",
    "    ax_objs.append(fig.add_subplot(gs[i:i+1, 0:]))\n",
    "\n",
    "    # plotting the distribution\n",
    "    ax_objs[-1].plot(x_d, trace,color=\"blue\",lw=1)\n",
    "    # ax_objs[-1].fill_between(x_d, np.exp(logprob), alpha=1,color=colors[i])\n",
    "\n",
    "\n",
    "    # setting uniform x and y lims\n",
    "    ax_objs[-1].set_xlim(0,940)\n",
    "    # ax_objs[-1].set_ylim(0,2.5)\n",
    "\n",
    "    # make background transparent\n",
    "    rect = ax_objs[-1].patch\n",
    "    rect.set_alpha(0)\n",
    "    ax_objs[-1].set_axis_off()\n",
    "\n",
    "gs.update(hspace=-0.7)\n",
    "\n",
    "# fig.text(0.07,0.85,\"Distribution of Aptitude Test Results from 18 – 24 year-olds\",fontsize=20)\n",
    "\n",
    "plt.tight_layout()\n",
    "plt.show()\n",
    "plt.savefig(fnames[0].split(\".\")[0]+'100_trace.png', dpi=500)"
   ]
  },
  {
   "cell_type": "code",
   "execution_count": null,
   "metadata": {},
   "outputs": [],
   "source": [
    "x_d.shape"
   ]
  },
  {
   "cell_type": "markdown",
   "metadata": {},
   "source": [
    "### Stop cluster"
   ]
  },
  {
   "cell_type": "code",
   "execution_count": null,
   "metadata": {},
   "outputs": [],
   "source": [
    "cm.stop_server(dview=dview)"
   ]
  },
  {
   "cell_type": "markdown",
   "metadata": {},
   "source": [
    "### Some instructive movies\n",
    "Play the reconstructed movie alongside the original movie and the (amplified) residual"
   ]
  },
  {
   "cell_type": "code",
   "execution_count": null,
   "metadata": {},
   "outputs": [],
   "source": [
    "#  #with background \n",
    "# cnm.estimates.play_movie(images, q_max=99.5, magnification=0.5,frame_range=slice(1, 1000, 5),display=True,\n",
    "#                                   include_bck=True, save_movie=True, movie_name='/home/chang/caiman_data/example_movies/Caiman_1/Video1-14_1-5-1000.avi',use_color=True, gain_res=10, bpx=bord_px)"
   ]
  },
  {
   "cell_type": "code",
   "execution_count": null,
   "metadata": {},
   "outputs": [],
   "source": []
  },
  {
   "cell_type": "code",
   "execution_count": null,
   "metadata": {},
   "outputs": [],
   "source": [
    "# without background\n",
    "cnm.estimates.play_movie(images, q_max=99.9, q_min=1,magnification=1,frame_range=slice(1, 100, 1),display=True,\n",
    "                                 include_bck=False, save_movie=True, movie_name='F:\\\\Dr_Miniscope\\\\NO\\\\No\\\\2023_06_09\\\\1\\\\Miniscope\\\\without_background.mp4',use_color=True, gain_res=3, bpx=bord_px)"
   ]
  },
  {
   "cell_type": "code",
   "execution_count": null,
   "metadata": {},
   "outputs": [],
   "source": [
    "#type(images)"
   ]
  },
  {
   "cell_type": "code",
   "execution_count": null,
   "metadata": {},
   "outputs": [],
   "source": [
    "##--------------Save mmap file into tif file\n",
    "\n",
    "\n",
    "#cm.load(‘filename.mmap’).save(‘filename.tif’)\n",
    "#x1 = np.memmap(folder+'msCam1_rig__d1_480_d2_752_d3_1_order_F_frames_1000_.mmap', mode='r', shape=(1000,480,752),order='F')\n",
    "#m_els = cm.load('/home/generalubuntu/mnt/Muad/ca-imaging/scalpel-test/registered_els__d1_346_d2_464_d3_1_order_F_frames_12600_.mmap', in_memory=True)\n",
    "\n",
    "##--------------Save mmap file into tif file"
   ]
  },
  {
   "cell_type": "markdown",
   "metadata": {},
   "source": [
    "## Save raw traces\n",
    "\n",
    "Save the raw fluorescence trace of each cell by adding the denoised calcium trace `cnm.estimates.C` and the residual `cnm.estimates.YrA`. The `cnm.estimates.idx_components` is a list of cells that passed the `min_SNR` and `r_values_min` cutoffs from the **\"Component Evaluation\"** step. \n",
    "\n",
    "We're saving the whole `cnm.estimates` object for future use as well. If you want to know what this object contains, refer to CaImAn [estimates.py](https://github.com/flatironinstitute/CaImAn/blob/master/caiman/source_extraction/cnmf/estimates.py). Make sure to change both paths to where you placed **\"Analysis_Pipeline-OASIS.ipynb\"**."
   ]
  },
  {
   "cell_type": "code",
   "execution_count": null,
   "metadata": {},
   "outputs": [],
   "source": [
    "import pickle\n",
    "fname = 'E:/CNT 4254 soc vs obj_NAc/estimates.obj'\n",
    "\n",
    "with open(fname, 'wb') as file:\n",
    "    pickle.dump(cnm.estimates, file)\n",
    "\n",
    "\n",
    "good_caAct = cnm.estimates.C[cnm.estimates.idx_components, :]\n",
    "good_resid = cnm.estimates.YrA[cnm.estimates.idx_components, :]\n",
    "\n",
    "good_rawFl = good_caAct + good_resid\n",
    "\n",
    "fname2 = 'E:/CNT 4254 soc vs obj_NAc/raw_fluorescence.obj'\n",
    "\n",
    "with open(fname2, 'wb') as file:\n",
    "    pickle.dump(good_rawFl, file)"
   ]
  },
  {
   "cell_type": "code",
   "execution_count": null,
   "metadata": {},
   "outputs": [],
   "source": [
    "good_rawFl"
   ]
  },
  {
   "cell_type": "code",
   "execution_count": null,
   "metadata": {},
   "outputs": [],
   "source": [
    "import scipy.io as sio\n",
    "sio.savemat('E:/CNT 4254 soc vs obj_NAc/C_Raw.mat', {\"C_Raw\":good_rawFl})"
   ]
  }
 ],
 "metadata": {
  "anaconda-cloud": {},
  "kernelspec": {
   "display_name": "Python 3 (ipykernel)",
   "language": "python",
   "name": "python3"
  },
  "language_info": {
   "codemirror_mode": {
    "name": "ipython",
    "version": 3
   },
   "file_extension": ".py",
   "mimetype": "text/x-python",
   "name": "python",
   "nbconvert_exporter": "python",
   "pygments_lexer": "ipython3",
   "version": "3.10.8"
  }
 },
 "nbformat": 4,
 "nbformat_minor": 4
}
